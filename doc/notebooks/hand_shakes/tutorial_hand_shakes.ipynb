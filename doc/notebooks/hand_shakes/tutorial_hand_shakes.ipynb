{
 "cells": [
  {
   "cell_type": "markdown",
   "metadata": {},
   "source": [
    "# Using MARIO and Pymrio Handshake Protocols"
   ]
  },
  {
   "cell_type": "markdown",
   "metadata": {},
   "source": [
    "Since version 3 of mario, user can exchange data between mario and pymrio to be able to cover parsers that are missed in mario or pymrio or use some of the two library functionalities.\n",
    "\n",
    "In this example, we will look at how this function can be used."
   ]
  },
  {
   "cell_type": "markdown",
   "metadata": {},
   "source": [
    "## OECD"
   ]
  },
  {
   "cell_type": "markdown",
   "metadata": {},
   "source": [
    "Assuem you want to parse the oecd tables , and the oecd parser does not exist natively in mario. At the first step, let's download and load the OECD data for 2011 using pymrio."
   ]
  },
  {
   "cell_type": "code",
   "execution_count": 1,
   "metadata": {},
   "outputs": [],
   "source": [
    "import mario\n",
    "import pymrio\n",
    "from pathlib import Path\n",
    "\n",
    "\n",
    "oecd_storage = Path(\"temp_folder\")\n",
    "meta_2018_download = pymrio.download_oecd(storage_folder=oecd_storage, years=[2011])\n",
    "\n",
    "data = pymrio.parse_oecd(path=oecd_storage, year=2011)"
   ]
  },
  {
   "cell_type": "markdown",
   "metadata": {},
   "source": [
    "Lets' take a look to the objects in pymrio parser output."
   ]
  },
  {
   "cell_type": "code",
   "execution_count": 2,
   "metadata": {},
   "outputs": [
    {
     "data": {
      "text/plain": [
       "['A',\n",
       " 'As',\n",
       " 'G',\n",
       " 'L',\n",
       " 'Y',\n",
       " 'Z',\n",
       " '__basic__',\n",
       " '__class__',\n",
       " '__coefficients__',\n",
       " '__delattr__',\n",
       " '__dict__',\n",
       " '__dir__',\n",
       " '__doc__',\n",
       " '__eq__',\n",
       " '__format__',\n",
       " '__ge__',\n",
       " '__getattribute__',\n",
       " '__getstate__',\n",
       " '__gt__',\n",
       " '__hash__',\n",
       " '__init__',\n",
       " '__init_subclass__',\n",
       " '__le__',\n",
       " '__lt__',\n",
       " '__module__',\n",
       " '__ne__',\n",
       " '__new__',\n",
       " '__non_agg_attributes__',\n",
       " '__reduce__',\n",
       " '__reduce_ex__',\n",
       " '__repr__',\n",
       " '__setattr__',\n",
       " '__sizeof__',\n",
       " '__str__',\n",
       " '__subclasshook__',\n",
       " '__weakref__',\n",
       " 'aggregate',\n",
       " 'aggregate_duplicates',\n",
       " 'calc_all',\n",
       " 'calc_extensions',\n",
       " 'calc_system',\n",
       " 'copy',\n",
       " 'factor_inputs',\n",
       " 'get_DataFrame',\n",
       " 'get_Y_categories',\n",
       " 'get_extensions',\n",
       " 'get_gross_trade',\n",
       " 'get_index',\n",
       " 'get_regions',\n",
       " 'get_sectors',\n",
       " 'meta',\n",
       " 'name',\n",
       " 'population',\n",
       " 'remove_extension',\n",
       " 'rename_Y_categories',\n",
       " 'rename_regions',\n",
       " 'rename_sectors',\n",
       " 'report_accounts',\n",
       " 'reset_all_full',\n",
       " 'reset_all_to_coefficients',\n",
       " 'reset_all_to_flows',\n",
       " 'reset_extensions',\n",
       " 'reset_full',\n",
       " 'reset_to_coefficients',\n",
       " 'reset_to_flows',\n",
       " 'save',\n",
       " 'save_all',\n",
       " 'set_index',\n",
       " 'unit',\n",
       " 'x']"
      ]
     },
     "execution_count": 2,
     "metadata": {},
     "output_type": "execute_result"
    }
   ],
   "source": [
    "dir(data)"
   ]
  },
  {
   "cell_type": "markdown",
   "metadata": {},
   "source": [
    "Unlike mario approach that all the satellite accounts and factors of production are concatnated into one object, pymrio follows the strucutre of the database and assing each account to a different object. So the only piece of puzzle needs to be solved to transform a pymrio object to mario object is to map those accounts. In this case for example, OECD has no satellite accounts and it has only factors of production, stored in factor_inputs object:"
   ]
  },
  {
   "cell_type": "code",
   "execution_count": 3,
   "metadata": {},
   "outputs": [
    {
     "data": {
      "text/plain": [
       "Index(['TLS', 'VA'], dtype='object', name='inputtype')"
      ]
     },
     "execution_count": 3,
     "metadata": {},
     "output_type": "execute_result"
    }
   ],
   "source": [
    "data.factor_inputs.get_index()"
   ]
  },
  {
   "cell_type": "markdown",
   "metadata": {},
   "source": [
    "now using parse_from_pymrio function in mario, we can transfer pymrio object to mario object. When doing so, you can take specific values from an account, or take all the rows!"
   ]
  },
  {
   "cell_type": "code",
   "execution_count": 4,
   "metadata": {},
   "outputs": [
    {
     "name": "stderr",
     "output_type": "stream",
     "text": [
      "/opt/anaconda3/envs/mariov3.4/lib/python3.11/site-packages/pymrio/core/mriosystem.py:900: FutureWarning:\n",
      "\n",
      "DataFrame.groupby with axis=1 is deprecated. Do `frame.T.groupby(...)` without axis instead.\n",
      "\n",
      "/opt/anaconda3/envs/mariov3.4/lib/python3.11/site-packages/pymrio/core/mriosystem.py:956: FutureWarning:\n",
      "\n",
      "DataFrame.groupby with axis=1 is deprecated. Do `frame.T.groupby(...)` without axis instead.\n",
      "\n",
      "/opt/anaconda3/envs/mariov3.4/lib/python3.11/site-packages/pymrio/core/mriosystem.py:984: FutureWarning:\n",
      "\n",
      "DataFrame.groupby with axis=1 is deprecated. Do `frame.T.groupby(...)` without axis instead.\n",
      "\n",
      "/opt/anaconda3/envs/mariov3.4/lib/python3.11/site-packages/pymrio/core/mriosystem.py:993: FutureWarning:\n",
      "\n",
      "DataFrame.groupby with axis=1 is deprecated. Do `frame.T.groupby(...)` without axis instead.\n",
      "\n",
      "/opt/anaconda3/envs/mariov3.4/lib/python3.11/site-packages/pymrio/core/mriosystem.py:1001: FutureWarning:\n",
      "\n",
      "DataFrame.groupby with axis=1 is deprecated. Do `frame.T.groupby(...)` without axis instead.\n",
      "\n",
      "/opt/anaconda3/envs/mariov3.4/lib/python3.11/site-packages/pymrio/core/mriosystem.py:1007: FutureWarning:\n",
      "\n",
      "DataFrame.groupby with axis=1 is deprecated. Do `frame.T.groupby(...)` without axis instead.\n",
      "\n",
      "WARNING:mario.core.CoreIO:Database: to calculate v following matrices are need.\n",
      "['X'].Trying to calculate dependencies.\n"
     ]
    }
   ],
   "source": [
    "oecd_by_mario = mario.parse_from_pymrio(\n",
    "    io = data, # pymrio object\n",
    "    value_added = {\"factor_inputs\":\"all\"}, # mapping of pymrio extensions using a dict.\n",
    "    satellite_account= {} # there is no satellite account for the database\n",
    ")"
   ]
  },
  {
   "cell_type": "markdown",
   "metadata": {},
   "source": [
    "now lets take a look to the mario data!"
   ]
  },
  {
   "cell_type": "code",
   "execution_count": 5,
   "metadata": {},
   "outputs": [
    {
     "name": "stdout",
     "output_type": "stream",
     "text": [
      "name = OECD-ICIO\n",
      "table = IOT\n",
      "scenarios = ['baseline']\n",
      "Factor of production = 2\n",
      "Satellite account = 1\n",
      "Consumption category = 7\n",
      "Region = 77\n",
      "Sector = 45\n",
      "\n"
     ]
    }
   ],
   "source": [
    "print(oecd_by_mario)"
   ]
  },
  {
   "cell_type": "markdown",
   "metadata": {},
   "source": [
    "⚠️ NOTE: You can alternatively use the parse_oecd function of mario which does this intermediate steps for you!"
   ]
  },
  {
   "cell_type": "markdown",
   "metadata": {},
   "source": [
    "## Exiobase 3.9.4"
   ]
  },
  {
   "cell_type": "markdown",
   "metadata": {},
   "source": [
    "Another example we can look at is the latest release of exiobase. This version is not compatible with the older versions of mario due to its structure. But via the parse_from_pymrio, the data can be parsed easily. Let's repeat the exercise:"
   ]
  },
  {
   "cell_type": "code",
   "execution_count": 6,
   "metadata": {},
   "outputs": [
    {
     "data": {
      "text/plain": [
       "Description: Download log of EXIOBASE3\n",
       "MRIO Name: EXIO3\n",
       "System: ixi\n",
       "Version: 10.5281/zenodo.3583070\n",
       "File: temp_folder/download_log.json\n",
       "History:\n",
       "20250129 19:20:40 - FILEIO -  Downloaded https://zenodo.org/records/14614930/files/IOT_2020_ixi.zip to IOT_2020_ixi.zip\n",
       "20250129 19:20:23 - NOTE -  Download log created\n",
       "20250129 19:20:23 - NOTE -  python_version: 3.11.10\n",
       "20250129 19:20:23 - NOTE -  pymrio_version: 0.5.4\n",
       "20250129 19:20:23 - NOTE -  os: Darwin\n",
       "20250129 19:20:23 - NOTE -  hostname: Mohammads-MacBook-Pro.local\n",
       "20250129 19:20:23 - NOTE -  username: mohammadamintahavori\n",
       "20250129 19:20:23 - METADATA_CHANGE -  Changed parameter \"version\" from \"v2023\" to \"10.5281/zenodo.3583070\"\n",
       "20250129 19:20:23 - METADATA_CHANGE -  Changed parameter \"system\" from \"IxI\" to \"ixi\"\n",
       "20250129 19:20:23 - METADATA_CHANGE -  Changed parameter \"name\" from \"OECD-ICIO\" to \"EXIO3\"\n",
       " ... (more lines in history)"
      ]
     },
     "execution_count": 6,
     "metadata": {},
     "output_type": "execute_result"
    }
   ],
   "source": [
    "\n",
    "pymrio.download_exiobase3(\n",
    "    storage_folder = \"temp_folder\",\n",
    "    years = 2020,\n",
    "    system = \"ixi\",\n",
    "    )"
   ]
  },
  {
   "cell_type": "code",
   "execution_count": 7,
   "metadata": {},
   "outputs": [],
   "source": [
    "exio_by_pymrio = pymrio.parse_exiobase3(\"temp_folder/IOT_2020_ixi.zip\")"
   ]
  },
  {
   "cell_type": "markdown",
   "metadata": {},
   "source": [
    "The satellite accounts in this version of EXIOBASE are splitted into multiple categories:\n",
    "\n",
    "    - material\n",
    "    - water\n",
    "    - employment\n",
    "    - air_emissions\n",
    "    - energy\n",
    "    - land\n",
    "    - nutrients\n",
    "\n",
    "and the factor of production is named as factor_inputs. The puzzle is solved then!"
   ]
  },
  {
   "cell_type": "code",
   "execution_count": 8,
   "metadata": {},
   "outputs": [
    {
     "name": "stderr",
     "output_type": "stream",
     "text": [
      "/opt/anaconda3/envs/mariov3.4/lib/python3.11/site-packages/pymrio/core/mriosystem.py:900: FutureWarning:\n",
      "\n",
      "DataFrame.groupby with axis=1 is deprecated. Do `frame.T.groupby(...)` without axis instead.\n",
      "\n",
      "/opt/anaconda3/envs/mariov3.4/lib/python3.11/site-packages/pymrio/core/mriosystem.py:956: FutureWarning:\n",
      "\n",
      "DataFrame.groupby with axis=1 is deprecated. Do `frame.T.groupby(...)` without axis instead.\n",
      "\n",
      "/opt/anaconda3/envs/mariov3.4/lib/python3.11/site-packages/pymrio/core/mriosystem.py:984: FutureWarning:\n",
      "\n",
      "DataFrame.groupby with axis=1 is deprecated. Do `frame.T.groupby(...)` without axis instead.\n",
      "\n",
      "/opt/anaconda3/envs/mariov3.4/lib/python3.11/site-packages/pymrio/core/mriosystem.py:993: FutureWarning:\n",
      "\n",
      "DataFrame.groupby with axis=1 is deprecated. Do `frame.T.groupby(...)` without axis instead.\n",
      "\n",
      "/opt/anaconda3/envs/mariov3.4/lib/python3.11/site-packages/pymrio/core/mriosystem.py:1001: FutureWarning:\n",
      "\n",
      "DataFrame.groupby with axis=1 is deprecated. Do `frame.T.groupby(...)` without axis instead.\n",
      "\n",
      "/opt/anaconda3/envs/mariov3.4/lib/python3.11/site-packages/pymrio/core/mriosystem.py:1007: FutureWarning:\n",
      "\n",
      "DataFrame.groupby with axis=1 is deprecated. Do `frame.T.groupby(...)` without axis instead.\n",
      "\n",
      "/opt/anaconda3/envs/mariov3.4/lib/python3.11/site-packages/pymrio/core/mriosystem.py:900: FutureWarning:\n",
      "\n",
      "DataFrame.groupby with axis=1 is deprecated. Do `frame.T.groupby(...)` without axis instead.\n",
      "\n",
      "/opt/anaconda3/envs/mariov3.4/lib/python3.11/site-packages/pymrio/core/mriosystem.py:956: FutureWarning:\n",
      "\n",
      "DataFrame.groupby with axis=1 is deprecated. Do `frame.T.groupby(...)` without axis instead.\n",
      "\n",
      "/opt/anaconda3/envs/mariov3.4/lib/python3.11/site-packages/pymrio/core/mriosystem.py:984: FutureWarning:\n",
      "\n",
      "DataFrame.groupby with axis=1 is deprecated. Do `frame.T.groupby(...)` without axis instead.\n",
      "\n",
      "/opt/anaconda3/envs/mariov3.4/lib/python3.11/site-packages/pymrio/core/mriosystem.py:993: FutureWarning:\n",
      "\n",
      "DataFrame.groupby with axis=1 is deprecated. Do `frame.T.groupby(...)` without axis instead.\n",
      "\n",
      "/opt/anaconda3/envs/mariov3.4/lib/python3.11/site-packages/pymrio/core/mriosystem.py:1001: FutureWarning:\n",
      "\n",
      "DataFrame.groupby with axis=1 is deprecated. Do `frame.T.groupby(...)` without axis instead.\n",
      "\n",
      "/opt/anaconda3/envs/mariov3.4/lib/python3.11/site-packages/pymrio/core/mriosystem.py:1007: FutureWarning:\n",
      "\n",
      "DataFrame.groupby with axis=1 is deprecated. Do `frame.T.groupby(...)` without axis instead.\n",
      "\n",
      "/opt/anaconda3/envs/mariov3.4/lib/python3.11/site-packages/pymrio/core/mriosystem.py:900: FutureWarning:\n",
      "\n",
      "DataFrame.groupby with axis=1 is deprecated. Do `frame.T.groupby(...)` without axis instead.\n",
      "\n",
      "/opt/anaconda3/envs/mariov3.4/lib/python3.11/site-packages/pymrio/core/mriosystem.py:956: FutureWarning:\n",
      "\n",
      "DataFrame.groupby with axis=1 is deprecated. Do `frame.T.groupby(...)` without axis instead.\n",
      "\n",
      "/opt/anaconda3/envs/mariov3.4/lib/python3.11/site-packages/pymrio/core/mriosystem.py:984: FutureWarning:\n",
      "\n",
      "DataFrame.groupby with axis=1 is deprecated. Do `frame.T.groupby(...)` without axis instead.\n",
      "\n",
      "/opt/anaconda3/envs/mariov3.4/lib/python3.11/site-packages/pymrio/core/mriosystem.py:993: FutureWarning:\n",
      "\n",
      "DataFrame.groupby with axis=1 is deprecated. Do `frame.T.groupby(...)` without axis instead.\n",
      "\n",
      "/opt/anaconda3/envs/mariov3.4/lib/python3.11/site-packages/pymrio/core/mriosystem.py:1001: FutureWarning:\n",
      "\n",
      "DataFrame.groupby with axis=1 is deprecated. Do `frame.T.groupby(...)` without axis instead.\n",
      "\n",
      "/opt/anaconda3/envs/mariov3.4/lib/python3.11/site-packages/pymrio/core/mriosystem.py:1007: FutureWarning:\n",
      "\n",
      "DataFrame.groupby with axis=1 is deprecated. Do `frame.T.groupby(...)` without axis instead.\n",
      "\n",
      "/opt/anaconda3/envs/mariov3.4/lib/python3.11/site-packages/pymrio/core/mriosystem.py:900: FutureWarning:\n",
      "\n",
      "DataFrame.groupby with axis=1 is deprecated. Do `frame.T.groupby(...)` without axis instead.\n",
      "\n",
      "/opt/anaconda3/envs/mariov3.4/lib/python3.11/site-packages/pymrio/core/mriosystem.py:956: FutureWarning:\n",
      "\n",
      "DataFrame.groupby with axis=1 is deprecated. Do `frame.T.groupby(...)` without axis instead.\n",
      "\n",
      "/opt/anaconda3/envs/mariov3.4/lib/python3.11/site-packages/pymrio/core/mriosystem.py:984: FutureWarning:\n",
      "\n",
      "DataFrame.groupby with axis=1 is deprecated. Do `frame.T.groupby(...)` without axis instead.\n",
      "\n",
      "/opt/anaconda3/envs/mariov3.4/lib/python3.11/site-packages/pymrio/core/mriosystem.py:993: FutureWarning:\n",
      "\n",
      "DataFrame.groupby with axis=1 is deprecated. Do `frame.T.groupby(...)` without axis instead.\n",
      "\n",
      "/opt/anaconda3/envs/mariov3.4/lib/python3.11/site-packages/pymrio/core/mriosystem.py:1001: FutureWarning:\n",
      "\n",
      "DataFrame.groupby with axis=1 is deprecated. Do `frame.T.groupby(...)` without axis instead.\n",
      "\n",
      "/opt/anaconda3/envs/mariov3.4/lib/python3.11/site-packages/pymrio/core/mriosystem.py:1007: FutureWarning:\n",
      "\n",
      "DataFrame.groupby with axis=1 is deprecated. Do `frame.T.groupby(...)` without axis instead.\n",
      "\n",
      "/opt/anaconda3/envs/mariov3.4/lib/python3.11/site-packages/pymrio/core/mriosystem.py:900: FutureWarning:\n",
      "\n",
      "DataFrame.groupby with axis=1 is deprecated. Do `frame.T.groupby(...)` without axis instead.\n",
      "\n",
      "/opt/anaconda3/envs/mariov3.4/lib/python3.11/site-packages/pymrio/core/mriosystem.py:956: FutureWarning:\n",
      "\n",
      "DataFrame.groupby with axis=1 is deprecated. Do `frame.T.groupby(...)` without axis instead.\n",
      "\n",
      "/opt/anaconda3/envs/mariov3.4/lib/python3.11/site-packages/pymrio/core/mriosystem.py:984: FutureWarning:\n",
      "\n",
      "DataFrame.groupby with axis=1 is deprecated. Do `frame.T.groupby(...)` without axis instead.\n",
      "\n",
      "/opt/anaconda3/envs/mariov3.4/lib/python3.11/site-packages/pymrio/core/mriosystem.py:993: FutureWarning:\n",
      "\n",
      "DataFrame.groupby with axis=1 is deprecated. Do `frame.T.groupby(...)` without axis instead.\n",
      "\n",
      "/opt/anaconda3/envs/mariov3.4/lib/python3.11/site-packages/pymrio/core/mriosystem.py:1001: FutureWarning:\n",
      "\n",
      "DataFrame.groupby with axis=1 is deprecated. Do `frame.T.groupby(...)` without axis instead.\n",
      "\n",
      "/opt/anaconda3/envs/mariov3.4/lib/python3.11/site-packages/pymrio/core/mriosystem.py:1007: FutureWarning:\n",
      "\n",
      "DataFrame.groupby with axis=1 is deprecated. Do `frame.T.groupby(...)` without axis instead.\n",
      "\n",
      "/opt/anaconda3/envs/mariov3.4/lib/python3.11/site-packages/pymrio/core/mriosystem.py:900: FutureWarning:\n",
      "\n",
      "DataFrame.groupby with axis=1 is deprecated. Do `frame.T.groupby(...)` without axis instead.\n",
      "\n",
      "/opt/anaconda3/envs/mariov3.4/lib/python3.11/site-packages/pymrio/core/mriosystem.py:956: FutureWarning:\n",
      "\n",
      "DataFrame.groupby with axis=1 is deprecated. Do `frame.T.groupby(...)` without axis instead.\n",
      "\n",
      "/opt/anaconda3/envs/mariov3.4/lib/python3.11/site-packages/pymrio/core/mriosystem.py:984: FutureWarning:\n",
      "\n",
      "DataFrame.groupby with axis=1 is deprecated. Do `frame.T.groupby(...)` without axis instead.\n",
      "\n",
      "/opt/anaconda3/envs/mariov3.4/lib/python3.11/site-packages/pymrio/core/mriosystem.py:993: FutureWarning:\n",
      "\n",
      "DataFrame.groupby with axis=1 is deprecated. Do `frame.T.groupby(...)` without axis instead.\n",
      "\n",
      "/opt/anaconda3/envs/mariov3.4/lib/python3.11/site-packages/pymrio/core/mriosystem.py:1001: FutureWarning:\n",
      "\n",
      "DataFrame.groupby with axis=1 is deprecated. Do `frame.T.groupby(...)` without axis instead.\n",
      "\n",
      "/opt/anaconda3/envs/mariov3.4/lib/python3.11/site-packages/pymrio/core/mriosystem.py:1007: FutureWarning:\n",
      "\n",
      "DataFrame.groupby with axis=1 is deprecated. Do `frame.T.groupby(...)` without axis instead.\n",
      "\n",
      "/opt/anaconda3/envs/mariov3.4/lib/python3.11/site-packages/pymrio/core/mriosystem.py:900: FutureWarning:\n",
      "\n",
      "DataFrame.groupby with axis=1 is deprecated. Do `frame.T.groupby(...)` without axis instead.\n",
      "\n",
      "/opt/anaconda3/envs/mariov3.4/lib/python3.11/site-packages/pymrio/core/mriosystem.py:956: FutureWarning:\n",
      "\n",
      "DataFrame.groupby with axis=1 is deprecated. Do `frame.T.groupby(...)` without axis instead.\n",
      "\n",
      "/opt/anaconda3/envs/mariov3.4/lib/python3.11/site-packages/pymrio/core/mriosystem.py:984: FutureWarning:\n",
      "\n",
      "DataFrame.groupby with axis=1 is deprecated. Do `frame.T.groupby(...)` without axis instead.\n",
      "\n",
      "/opt/anaconda3/envs/mariov3.4/lib/python3.11/site-packages/pymrio/core/mriosystem.py:993: FutureWarning:\n",
      "\n",
      "DataFrame.groupby with axis=1 is deprecated. Do `frame.T.groupby(...)` without axis instead.\n",
      "\n",
      "/opt/anaconda3/envs/mariov3.4/lib/python3.11/site-packages/pymrio/core/mriosystem.py:1001: FutureWarning:\n",
      "\n",
      "DataFrame.groupby with axis=1 is deprecated. Do `frame.T.groupby(...)` without axis instead.\n",
      "\n",
      "/opt/anaconda3/envs/mariov3.4/lib/python3.11/site-packages/pymrio/core/mriosystem.py:1007: FutureWarning:\n",
      "\n",
      "DataFrame.groupby with axis=1 is deprecated. Do `frame.T.groupby(...)` without axis instead.\n",
      "\n",
      "/opt/anaconda3/envs/mariov3.4/lib/python3.11/site-packages/pymrio/core/mriosystem.py:900: FutureWarning:\n",
      "\n",
      "DataFrame.groupby with axis=1 is deprecated. Do `frame.T.groupby(...)` without axis instead.\n",
      "\n",
      "/opt/anaconda3/envs/mariov3.4/lib/python3.11/site-packages/pymrio/core/mriosystem.py:956: FutureWarning:\n",
      "\n",
      "DataFrame.groupby with axis=1 is deprecated. Do `frame.T.groupby(...)` without axis instead.\n",
      "\n",
      "/opt/anaconda3/envs/mariov3.4/lib/python3.11/site-packages/pymrio/core/mriosystem.py:984: FutureWarning:\n",
      "\n",
      "DataFrame.groupby with axis=1 is deprecated. Do `frame.T.groupby(...)` without axis instead.\n",
      "\n",
      "/opt/anaconda3/envs/mariov3.4/lib/python3.11/site-packages/pymrio/core/mriosystem.py:993: FutureWarning:\n",
      "\n",
      "DataFrame.groupby with axis=1 is deprecated. Do `frame.T.groupby(...)` without axis instead.\n",
      "\n",
      "/opt/anaconda3/envs/mariov3.4/lib/python3.11/site-packages/pymrio/core/mriosystem.py:1001: FutureWarning:\n",
      "\n",
      "DataFrame.groupby with axis=1 is deprecated. Do `frame.T.groupby(...)` without axis instead.\n",
      "\n",
      "/opt/anaconda3/envs/mariov3.4/lib/python3.11/site-packages/pymrio/core/mriosystem.py:1007: FutureWarning:\n",
      "\n",
      "DataFrame.groupby with axis=1 is deprecated. Do `frame.T.groupby(...)` without axis instead.\n",
      "\n",
      "WARNING:mario.core.CoreIO:Database: to calculate v following matrices are need.\n",
      "['X'].Trying to calculate dependencies.\n"
     ]
    }
   ],
   "source": [
    "sat_acc = {  # In this way we are assigning all the indicators in the extensions that we want to map as Satellite Accounts\n",
    "    'material': 'all',\n",
    "    'water': 'all',\n",
    "    'employment': 'all',\n",
    "    'air_emissions': 'all',\n",
    "    'energy': 'all',\n",
    "    'land': 'all',\n",
    "    'nutrients': 'all'\n",
    "} \n",
    "\n",
    "value_added = {'factor_inputs': 'all'} # In this way we are assigning all the indicators in the extensions that we want to map as Value Added\n",
    "\n",
    "exio_by_mario = mario.parse_from_pymrio(exio_by_pymrio, satellite_account=sat_acc, value_added=value_added)\n"
   ]
  },
  {
   "cell_type": "code",
   "execution_count": 9,
   "metadata": {},
   "outputs": [
    {
     "name": "stdout",
     "output_type": "stream",
     "text": [
      "name = EXIO_IOT_2020_ixi\n",
      "table = IOT\n",
      "scenarios = ['baseline']\n",
      "Factor of production = 9\n",
      "Satellite account = 726\n",
      "Consumption category = 7\n",
      "Region = 49\n",
      "Sector = 163\n",
      "\n"
     ]
    }
   ],
   "source": [
    "print(exio_by_mario)"
   ]
  },
  {
   "cell_type": "markdown",
   "metadata": {},
   "source": [
    "⚠️ NOTE: You can alternatively use the prase_exiobase function of mario which does this intermediate steps for you! You just need to pass the version of the database you need to parse"
   ]
  }
 ],
 "metadata": {
  "kernelspec": {
   "display_name": "mariov3.4",
   "language": "python",
   "name": "python3"
  },
  "language_info": {
   "codemirror_mode": {
    "name": "ipython",
    "version": 3
   },
   "file_extension": ".py",
   "mimetype": "text/x-python",
   "name": "python",
   "nbconvert_exporter": "python",
   "pygments_lexer": "ipython3",
   "version": "3.11.10"
  }
 },
 "nbformat": 4,
 "nbformat_minor": 2
}
